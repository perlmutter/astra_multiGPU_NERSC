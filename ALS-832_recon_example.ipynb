{
 "cells": [
  {
   "cell_type": "markdown",
   "id": "15715a73-19f3-4984-a551-2f35f0a7a87d",
   "metadata": {
    "tags": []
   },
   "source": [
    "# Beamline 8.3.2 GPU Reconstruction Example"
   ]
  },
  {
   "cell_type": "markdown",
   "id": "cc281128-0e6e-425d-8a7d-2bf769f7c8ff",
   "metadata": {},
   "source": [
    "### Setup"
   ]
  },
  {
   "cell_type": "code",
   "execution_count": 5,
   "id": "1c08093e-7e6d-4756-8548-955a74904db7",
   "metadata": {},
   "outputs": [],
   "source": [
    "import numpy as np\n",
    "import astra\n",
    "vol = np.ones((100,120,120))\n",
    "theta = np.linspace(0,np.pi,180)\n",
    "vol_geom = astra.create_vol_geom(vol.shape[1],vol.shape[2],vol.shape[0])\n",
    "proj_geom = astra.create_proj_geom('parallel3d', 1.0, 1.0, vol.shape[1], vol.shape[2], theta)\n",
    "proj_id, tomo = astra.create_sino3d_gpu(vol, proj_geom, vol_geom)"
   ]
  },
  {
   "cell_type": "markdown",
   "id": "c2afa99b-1fd7-4510-b3e8-b19d43ed3a38",
   "metadata": {},
   "source": [
    "### This is the python-wrapped function that should be run on multiple GPUs"
   ]
  },
  {
   "cell_type": "code",
   "execution_count": 2,
   "id": "0a3001b3-6c19-474c-840e-cf7eab97eae8",
   "metadata": {},
   "outputs": [],
   "source": [
    "def astra_recon(tomo,theta,vol):\n",
    "    vol_geom = astra.create_vol_geom(vol.shape)\n",
    "    proj_geom = astra.create_proj_geom('parallel', 1.0, vol.shape[0], theta)\n",
    "    proj_id = astra.create_projector('cuda', proj_geom, vol_geom)\n",
    "    rec_id = astra.data2d.create('-vol', vol_geom)\n",
    "    sino_id = astra.data2d.create('-sino', proj_geom, tomo)\n",
    "    cfg = astra.astra_dict('FBP_CUDA')\n",
    "    cfg['ReconstructionDataId'] = rec_id\n",
    "    cfg['ProjectionDataId'] = sino_id\n",
    "    cfg['ProjectorId'] = proj_id\n",
    "\n",
    "    alg_id = astra.algorithm.create(cfg)\n",
    "    astra.algorithm.run(alg_id)\n",
    "\n",
    "    recon = astra.data2d.get(rec_id)\n",
    "    return recon\n",
    "    "
   ]
  },
  {
   "cell_type": "markdown",
   "id": "b7b40b78-77de-40bc-aa28-68a5a4fdcf62",
   "metadata": {},
   "source": [
    "### This for loop should be split among multiple GPUs"
   ]
  },
  {
   "cell_type": "code",
   "execution_count": 3,
   "id": "a152e070-43bc-4d1b-a401-aac7d2ee1e84",
   "metadata": {},
   "outputs": [],
   "source": [
    "recon = np.zeros_like(vol)\n",
    "for i, (sino, img) in enumerate(zip(tomo,vol)):\n",
    "    recon[i] = astra_recon(sino,theta,img)"
   ]
  },
  {
   "cell_type": "markdown",
   "id": "0120c1c3-81a0-4bf3-9df8-62569e7bec10",
   "metadata": {},
   "source": [
    "### Recon should be same size as original vol"
   ]
  },
  {
   "cell_type": "code",
   "execution_count": 4,
   "id": "9f2eb1af-0da9-4add-80a9-37d9bcd6953b",
   "metadata": {},
   "outputs": [
    {
     "name": "stdout",
     "output_type": "stream",
     "text": [
      "vol: (100, 120, 120)\n",
      "recon: (100, 120, 120)\n"
     ]
    }
   ],
   "source": [
    "print(f\"vol: {vol.shape}\")\n",
    "print(f\"recon: {recon.shape}\")"
   ]
  },
  {
   "cell_type": "code",
   "execution_count": null,
   "id": "21e2c0b0-d648-41e6-b7b8-ae72983bf3d0",
   "metadata": {},
   "outputs": [],
   "source": []
  }
 ],
 "metadata": {
  "kernelspec": {
   "display_name": "tomo832",
   "language": "python",
   "name": "tomo832"
  },
  "language_info": {
   "codemirror_mode": {
    "name": "ipython",
    "version": 3
   },
   "file_extension": ".py",
   "mimetype": "text/x-python",
   "name": "python",
   "nbconvert_exporter": "python",
   "pygments_lexer": "ipython3",
   "version": "3.9.10"
  },
  "toc-autonumbering": false,
  "toc-showcode": true,
  "toc-showmarkdowntxt": false,
  "toc-showtags": false
 },
 "nbformat": 4,
 "nbformat_minor": 5
}
